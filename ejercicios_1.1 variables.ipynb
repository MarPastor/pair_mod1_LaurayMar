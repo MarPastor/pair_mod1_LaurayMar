{
 "cells": [
  {
   "cell_type": "code",
   "execution_count": 17,
   "id": "a811def2",
   "metadata": {},
   "outputs": [],
   "source": [
    "gatos = 8"
   ]
  },
  {
   "cell_type": "code",
   "execution_count": 18,
   "id": "d44e13f0",
   "metadata": {},
   "outputs": [],
   "source": [
    "perros = 'cuatro'"
   ]
  },
  {
   "cell_type": "code",
   "execution_count": 19,
   "id": "96f127e8",
   "metadata": {},
   "outputs": [
    {
     "name": "stdout",
     "output_type": "stream",
     "text": [
      "8\n"
     ]
    }
   ],
   "source": [
    "print(gatos)"
   ]
  },
  {
   "cell_type": "code",
   "execution_count": 20,
   "id": "059c56d9",
   "metadata": {},
   "outputs": [
    {
     "name": "stdout",
     "output_type": "stream",
     "text": [
      "cuatro\n"
     ]
    }
   ],
   "source": [
    "print(perros)"
   ]
  },
  {
   "cell_type": "code",
   "execution_count": 21,
   "id": "a240bd8e",
   "metadata": {},
   "outputs": [
    {
     "name": "stdout",
     "output_type": "stream",
     "text": [
      "cuatro mas cuatro\n"
     ]
    }
   ],
   "source": [
    "print(perros + ' mas ' + perros)"
   ]
  },
  {
   "cell_type": "code",
   "execution_count": 22,
   "id": "ccaecc38",
   "metadata": {},
   "outputs": [
    {
     "name": "stdout",
     "output_type": "stream",
     "text": [
      "cuatro mas cuatro es igual a 8\n"
     ]
    }
   ],
   "source": [
    "print(perros + ' mas ' + perros + ' es igual a 8')"
   ]
  },
  {
   "cell_type": "code",
   "execution_count": 23,
   "id": "b58e84a0",
   "metadata": {},
   "outputs": [
    {
     "name": "stdout",
     "output_type": "stream",
     "text": [
      "cuatro + cuatro = 8\n"
     ]
    }
   ],
   "source": [
    "print(perros + ' + ' + perros + ' = 8')"
   ]
  },
  {
   "cell_type": "code",
   "execution_count": 24,
   "id": "5d1fd147",
   "metadata": {},
   "outputs": [],
   "source": [
    "pizzas = 2.0"
   ]
  },
  {
   "cell_type": "code",
   "execution_count": 25,
   "id": "f2d76ce6",
   "metadata": {},
   "outputs": [],
   "source": [
    "magdalenas = '2'"
   ]
  },
  {
   "cell_type": "code",
   "execution_count": 31,
   "id": "9f188135",
   "metadata": {},
   "outputs": [
    {
     "data": {
      "text/plain": [
       "float"
      ]
     },
     "execution_count": 31,
     "metadata": {},
     "output_type": "execute_result"
    }
   ],
   "source": [
    "type(pizzas)"
   ]
  },
  {
   "cell_type": "code",
   "execution_count": 32,
   "id": "d111fc62",
   "metadata": {},
   "outputs": [
    {
     "data": {
      "text/plain": [
       "str"
      ]
     },
     "execution_count": 32,
     "metadata": {},
     "output_type": "execute_result"
    }
   ],
   "source": [
    "type(magdalenas)"
   ]
  },
  {
   "cell_type": "code",
   "execution_count": 26,
   "id": "946a6a33",
   "metadata": {},
   "outputs": [],
   "source": [
    "postres = '0'"
   ]
  },
  {
   "cell_type": "code",
   "execution_count": 27,
   "id": "4a816fb9",
   "metadata": {},
   "outputs": [
    {
     "data": {
      "text/plain": [
       "10.0"
      ]
     },
     "execution_count": 27,
     "metadata": {},
     "output_type": "execute_result"
    }
   ],
   "source": [
    "gatos + pizzas"
   ]
  },
  {
   "cell_type": "code",
   "execution_count": 28,
   "id": "17500b41",
   "metadata": {},
   "outputs": [
    {
     "data": {
      "text/plain": [
       "6.0"
      ]
     },
     "execution_count": 28,
     "metadata": {},
     "output_type": "execute_result"
    }
   ],
   "source": [
    "gatos - pizzas"
   ]
  },
  {
   "cell_type": "code",
   "execution_count": 29,
   "id": "d452e48c",
   "metadata": {},
   "outputs": [
    {
     "data": {
      "text/plain": [
       "16"
      ]
     },
     "execution_count": 29,
     "metadata": {},
     "output_type": "execute_result"
    }
   ],
   "source": [
    "gatos * 2"
   ]
  },
  {
   "cell_type": "code",
   "execution_count": 30,
   "id": "694223a1",
   "metadata": {},
   "outputs": [],
   "source": [
    "piezas = pizzas * 8"
   ]
  },
  {
   "cell_type": "code",
   "execution_count": 33,
   "id": "3f2563aa",
   "metadata": {},
   "outputs": [
    {
     "data": {
      "text/plain": [
       "48.0"
      ]
     },
     "execution_count": 33,
     "metadata": {},
     "output_type": "execute_result"
    }
   ],
   "source": [
    "piezas * 3"
   ]
  },
  {
   "cell_type": "code",
   "execution_count": 36,
   "id": "c3500aa1",
   "metadata": {},
   "outputs": [],
   "source": [
    "superficie = 9 ** 2"
   ]
  },
  {
   "cell_type": "code",
   "execution_count": 37,
   "id": "1185476f",
   "metadata": {},
   "outputs": [
    {
     "data": {
      "text/plain": [
       "10.125"
      ]
     },
     "execution_count": 37,
     "metadata": {},
     "output_type": "execute_result"
    }
   ],
   "source": [
    "superficie / gatos"
   ]
  },
  {
   "cell_type": "code",
   "execution_count": 42,
   "id": "2072ddd3",
   "metadata": {},
   "outputs": [
    {
     "data": {
      "text/plain": [
       "int"
      ]
     },
     "execution_count": 42,
     "metadata": {},
     "output_type": "execute_result"
    }
   ],
   "source": [
    "type(superficie)"
   ]
  },
  {
   "cell_type": "code",
   "execution_count": 38,
   "id": "0f805ad1",
   "metadata": {},
   "outputs": [
    {
     "data": {
      "text/plain": [
       "2.0"
      ]
     },
     "execution_count": 38,
     "metadata": {},
     "output_type": "execute_result"
    }
   ],
   "source": [
    "piezas / gatos"
   ]
  },
  {
   "cell_type": "code",
   "execution_count": 39,
   "id": "73da2205",
   "metadata": {},
   "outputs": [],
   "source": [
    "piezas_quedan = gatos * 21"
   ]
  },
  {
   "cell_type": "code",
   "execution_count": 50,
   "id": "d3b636e5",
   "metadata": {},
   "outputs": [
    {
     "name": "stdout",
     "output_type": "stream",
     "text": [
      "102.515625\n"
     ]
    }
   ],
   "source": [
    "print(((superficie / gatos) ** 2))"
   ]
  },
  {
   "cell_type": "code",
   "execution_count": null,
   "id": "c0faa442",
   "metadata": {},
   "outputs": [],
   "source": []
  }
 ],
 "metadata": {
  "kernelspec": {
   "display_name": "base",
   "language": "python",
   "name": "python3"
  },
  "language_info": {
   "codemirror_mode": {
    "name": "ipython",
    "version": 3
   },
   "file_extension": ".py",
   "mimetype": "text/x-python",
   "name": "python",
   "nbconvert_exporter": "python",
   "pygments_lexer": "ipython3",
   "version": "3.12.7"
  }
 },
 "nbformat": 4,
 "nbformat_minor": 5
}
